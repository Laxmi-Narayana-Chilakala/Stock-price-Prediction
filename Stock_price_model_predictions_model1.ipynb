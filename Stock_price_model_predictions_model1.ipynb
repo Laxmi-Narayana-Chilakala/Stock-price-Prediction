{
  "nbformat": 4,
  "nbformat_minor": 0,
  "metadata": {
    "colab": {
      "name": "Stock price model predictions model1.ipynb",
      "provenance": [],
      "authorship_tag": "ABX9TyMN+WMP5FyZJYvdzQEA+wRk",
      "include_colab_link": true
    },
    "kernelspec": {
      "name": "python3",
      "display_name": "Python 3"
    },
    "language_info": {
      "name": "python"
    },
    "accelerator": "GPU"
  },
  "cells": [
    {
      "cell_type": "markdown",
      "metadata": {
        "id": "view-in-github",
        "colab_type": "text"
      },
      "source": [
        "<a href=\"https://colab.research.google.com/github/Laxmi-Narayana-Chilakala/Stock-price-Prediction/blob/main/Stock_price_model_predictions_model1.ipynb\" target=\"_parent\"><img src=\"https://colab.research.google.com/assets/colab-badge.svg\" alt=\"Open In Colab\"/></a>"
      ]
    },
    {
      "cell_type": "code",
      "metadata": {
        "id": "NpQOzil-OQQy"
      },
      "source": [
        ""
      ],
      "execution_count": null,
      "outputs": []
    },
    {
      "cell_type": "code",
      "metadata": {
        "id": "ZmmtPMgDnZuM"
      },
      "source": [
        "import pandas as pd\n",
        "import numpy as np\n",
        "import matplotlib.pyplot as plt\n",
        "import seaborn as sns"
      ],
      "execution_count": 1,
      "outputs": []
    },
    {
      "cell_type": "code",
      "metadata": {
        "id": "Lof-XDlWoK93",
        "colab": {
          "resources": {
            "http://localhost:8080/nbextensions/google.colab/files.js": {
              "data": "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",
              "ok": true,
              "headers": [
                [
                  "content-type",
                  "application/javascript"
                ]
              ],
              "status": 200,
              "status_text": ""
            }
          },
          "base_uri": "https://localhost:8080/",
          "height": 73
        },
        "outputId": "ce7a1666-7293-40b1-fe7e-9829ef3d6670"
      },
      "source": [
        "from google.colab import files\n",
        "uploaded = files.upload()"
      ],
      "execution_count": 4,
      "outputs": [
        {
          "output_type": "display_data",
          "data": {
            "text/html": [
              "\n",
              "     <input type=\"file\" id=\"files-7a372739-fae5-49ab-b653-a52e07b0d8d5\" name=\"files[]\" multiple disabled\n",
              "        style=\"border:none\" />\n",
              "     <output id=\"result-7a372739-fae5-49ab-b653-a52e07b0d8d5\">\n",
              "      Upload widget is only available when the cell has been executed in the\n",
              "      current browser session. Please rerun this cell to enable.\n",
              "      </output>\n",
              "      <script src=\"/nbextensions/google.colab/files.js\"></script> "
            ],
            "text/plain": [
              "<IPython.core.display.HTML object>"
            ]
          },
          "metadata": {
            "tags": []
          }
        },
        {
          "output_type": "stream",
          "text": [
            "Saving MSFT.csv to MSFT.csv\n"
          ],
          "name": "stdout"
        }
      ]
    },
    {
      "cell_type": "code",
      "metadata": {
        "id": "mPziQdTkoVKZ"
      },
      "source": [
        "df=pd.read_csv('/content/MSFT.csv')"
      ],
      "execution_count": 5,
      "outputs": []
    },
    {
      "cell_type": "code",
      "metadata": {
        "id": "eBFVJp4RoWjN",
        "colab": {
          "base_uri": "https://localhost:8080/",
          "height": 206
        },
        "outputId": "712e56ff-2380-4c65-d2b6-3fec2ed0ecaf"
      },
      "source": [
        "df.head()"
      ],
      "execution_count": 6,
      "outputs": [
        {
          "output_type": "execute_result",
          "data": {
            "text/html": [
              "<div>\n",
              "<style scoped>\n",
              "    .dataframe tbody tr th:only-of-type {\n",
              "        vertical-align: middle;\n",
              "    }\n",
              "\n",
              "    .dataframe tbody tr th {\n",
              "        vertical-align: top;\n",
              "    }\n",
              "\n",
              "    .dataframe thead th {\n",
              "        text-align: right;\n",
              "    }\n",
              "</style>\n",
              "<table border=\"1\" class=\"dataframe\">\n",
              "  <thead>\n",
              "    <tr style=\"text-align: right;\">\n",
              "      <th></th>\n",
              "      <th>Date</th>\n",
              "      <th>Open</th>\n",
              "      <th>High</th>\n",
              "      <th>Low</th>\n",
              "      <th>Close</th>\n",
              "      <th>Adj Close</th>\n",
              "      <th>Volume</th>\n",
              "    </tr>\n",
              "  </thead>\n",
              "  <tbody>\n",
              "    <tr>\n",
              "      <th>0</th>\n",
              "      <td>1986-03-13</td>\n",
              "      <td>0.088542</td>\n",
              "      <td>0.101563</td>\n",
              "      <td>0.088542</td>\n",
              "      <td>0.097222</td>\n",
              "      <td>0.061751</td>\n",
              "      <td>1031788800</td>\n",
              "    </tr>\n",
              "    <tr>\n",
              "      <th>1</th>\n",
              "      <td>1986-03-14</td>\n",
              "      <td>0.097222</td>\n",
              "      <td>0.102431</td>\n",
              "      <td>0.097222</td>\n",
              "      <td>0.100694</td>\n",
              "      <td>0.063956</td>\n",
              "      <td>308160000</td>\n",
              "    </tr>\n",
              "    <tr>\n",
              "      <th>2</th>\n",
              "      <td>1986-03-17</td>\n",
              "      <td>0.100694</td>\n",
              "      <td>0.103299</td>\n",
              "      <td>0.100694</td>\n",
              "      <td>0.102431</td>\n",
              "      <td>0.065059</td>\n",
              "      <td>133171200</td>\n",
              "    </tr>\n",
              "    <tr>\n",
              "      <th>3</th>\n",
              "      <td>1986-03-18</td>\n",
              "      <td>0.102431</td>\n",
              "      <td>0.103299</td>\n",
              "      <td>0.098958</td>\n",
              "      <td>0.099826</td>\n",
              "      <td>0.063405</td>\n",
              "      <td>67766400</td>\n",
              "    </tr>\n",
              "    <tr>\n",
              "      <th>4</th>\n",
              "      <td>1986-03-19</td>\n",
              "      <td>0.099826</td>\n",
              "      <td>0.100694</td>\n",
              "      <td>0.097222</td>\n",
              "      <td>0.098090</td>\n",
              "      <td>0.062302</td>\n",
              "      <td>47894400</td>\n",
              "    </tr>\n",
              "  </tbody>\n",
              "</table>\n",
              "</div>"
            ],
            "text/plain": [
              "         Date      Open      High       Low     Close  Adj Close      Volume\n",
              "0  1986-03-13  0.088542  0.101563  0.088542  0.097222   0.061751  1031788800\n",
              "1  1986-03-14  0.097222  0.102431  0.097222  0.100694   0.063956   308160000\n",
              "2  1986-03-17  0.100694  0.103299  0.100694  0.102431   0.065059   133171200\n",
              "3  1986-03-18  0.102431  0.103299  0.098958  0.099826   0.063405    67766400\n",
              "4  1986-03-19  0.099826  0.100694  0.097222  0.098090   0.062302    47894400"
            ]
          },
          "metadata": {
            "tags": []
          },
          "execution_count": 6
        }
      ]
    },
    {
      "cell_type": "code",
      "metadata": {
        "colab": {
          "base_uri": "https://localhost:8080/"
        },
        "id": "RUq3jqVkMMR2",
        "outputId": "a81b4102-65ec-4749-9c2c-469ab14eca11"
      },
      "source": [
        "df.shape"
      ],
      "execution_count": 7,
      "outputs": [
        {
          "output_type": "execute_result",
          "data": {
            "text/plain": [
              "(8857, 7)"
            ]
          },
          "metadata": {
            "tags": []
          },
          "execution_count": 7
        }
      ]
    },
    {
      "cell_type": "code",
      "metadata": {
        "colab": {
          "base_uri": "https://localhost:8080/"
        },
        "id": "zRDJl5oqMbwV",
        "outputId": "b8e7cec7-33aa-42dc-e0d0-1d8c740da66c"
      },
      "source": [
        "df.info()"
      ],
      "execution_count": 8,
      "outputs": [
        {
          "output_type": "stream",
          "text": [
            "<class 'pandas.core.frame.DataFrame'>\n",
            "RangeIndex: 8857 entries, 0 to 8856\n",
            "Data columns (total 7 columns):\n",
            " #   Column     Non-Null Count  Dtype  \n",
            "---  ------     --------------  -----  \n",
            " 0   Date       8857 non-null   object \n",
            " 1   Open       8857 non-null   float64\n",
            " 2   High       8857 non-null   float64\n",
            " 3   Low        8857 non-null   float64\n",
            " 4   Close      8857 non-null   float64\n",
            " 5   Adj Close  8857 non-null   float64\n",
            " 6   Volume     8857 non-null   int64  \n",
            "dtypes: float64(5), int64(1), object(1)\n",
            "memory usage: 484.5+ KB\n"
          ],
          "name": "stdout"
        }
      ]
    },
    {
      "cell_type": "code",
      "metadata": {
        "colab": {
          "base_uri": "https://localhost:8080/",
          "height": 300
        },
        "id": "o64OENdhMh4I",
        "outputId": "342ae1e8-0d26-4cd4-da1d-fe11afe54c74"
      },
      "source": [
        "df.describe()"
      ],
      "execution_count": 9,
      "outputs": [
        {
          "output_type": "execute_result",
          "data": {
            "text/html": [
              "<div>\n",
              "<style scoped>\n",
              "    .dataframe tbody tr th:only-of-type {\n",
              "        vertical-align: middle;\n",
              "    }\n",
              "\n",
              "    .dataframe tbody tr th {\n",
              "        vertical-align: top;\n",
              "    }\n",
              "\n",
              "    .dataframe thead th {\n",
              "        text-align: right;\n",
              "    }\n",
              "</style>\n",
              "<table border=\"1\" class=\"dataframe\">\n",
              "  <thead>\n",
              "    <tr style=\"text-align: right;\">\n",
              "      <th></th>\n",
              "      <th>Open</th>\n",
              "      <th>High</th>\n",
              "      <th>Low</th>\n",
              "      <th>Close</th>\n",
              "      <th>Adj Close</th>\n",
              "      <th>Volume</th>\n",
              "    </tr>\n",
              "  </thead>\n",
              "  <tbody>\n",
              "    <tr>\n",
              "      <th>count</th>\n",
              "      <td>8857.000000</td>\n",
              "      <td>8857.000000</td>\n",
              "      <td>8857.000000</td>\n",
              "      <td>8857.000000</td>\n",
              "      <td>8857.000000</td>\n",
              "      <td>8.857000e+03</td>\n",
              "    </tr>\n",
              "    <tr>\n",
              "      <th>mean</th>\n",
              "      <td>34.831233</td>\n",
              "      <td>35.209355</td>\n",
              "      <td>34.449657</td>\n",
              "      <td>34.840895</td>\n",
              "      <td>29.886536</td>\n",
              "      <td>5.953411e+07</td>\n",
              "    </tr>\n",
              "    <tr>\n",
              "      <th>std</th>\n",
              "      <td>44.060163</td>\n",
              "      <td>44.513443</td>\n",
              "      <td>43.597704</td>\n",
              "      <td>44.080986</td>\n",
              "      <td>44.195101</td>\n",
              "      <td>3.858121e+07</td>\n",
              "    </tr>\n",
              "    <tr>\n",
              "      <th>min</th>\n",
              "      <td>0.088542</td>\n",
              "      <td>0.092014</td>\n",
              "      <td>0.088542</td>\n",
              "      <td>0.090278</td>\n",
              "      <td>0.057340</td>\n",
              "      <td>2.304000e+06</td>\n",
              "    </tr>\n",
              "    <tr>\n",
              "      <th>25%</th>\n",
              "      <td>3.843750</td>\n",
              "      <td>3.875000</td>\n",
              "      <td>3.812500</td>\n",
              "      <td>3.851563</td>\n",
              "      <td>2.446323</td>\n",
              "      <td>3.559720e+07</td>\n",
              "    </tr>\n",
              "    <tr>\n",
              "      <th>50%</th>\n",
              "      <td>26.590000</td>\n",
              "      <td>26.879999</td>\n",
              "      <td>26.290001</td>\n",
              "      <td>26.590000</td>\n",
              "      <td>18.686628</td>\n",
              "      <td>5.269680e+07</td>\n",
              "    </tr>\n",
              "    <tr>\n",
              "      <th>75%</th>\n",
              "      <td>36.730000</td>\n",
              "      <td>37.000000</td>\n",
              "      <td>36.110001</td>\n",
              "      <td>36.660000</td>\n",
              "      <td>27.218300</td>\n",
              "      <td>7.339520e+07</td>\n",
              "    </tr>\n",
              "    <tr>\n",
              "      <th>max</th>\n",
              "      <td>261.660004</td>\n",
              "      <td>263.190002</td>\n",
              "      <td>260.170013</td>\n",
              "      <td>261.970001</td>\n",
              "      <td>261.970001</td>\n",
              "      <td>1.031789e+09</td>\n",
              "    </tr>\n",
              "  </tbody>\n",
              "</table>\n",
              "</div>"
            ],
            "text/plain": [
              "              Open         High  ...    Adj Close        Volume\n",
              "count  8857.000000  8857.000000  ...  8857.000000  8.857000e+03\n",
              "mean     34.831233    35.209355  ...    29.886536  5.953411e+07\n",
              "std      44.060163    44.513443  ...    44.195101  3.858121e+07\n",
              "min       0.088542     0.092014  ...     0.057340  2.304000e+06\n",
              "25%       3.843750     3.875000  ...     2.446323  3.559720e+07\n",
              "50%      26.590000    26.879999  ...    18.686628  5.269680e+07\n",
              "75%      36.730000    37.000000  ...    27.218300  7.339520e+07\n",
              "max     261.660004   263.190002  ...   261.970001  1.031789e+09\n",
              "\n",
              "[8 rows x 6 columns]"
            ]
          },
          "metadata": {
            "tags": []
          },
          "execution_count": 9
        }
      ]
    },
    {
      "cell_type": "code",
      "metadata": {
        "id": "t-St5LydMoKF"
      },
      "source": [
        "df['Date']=pd.to_datetime(df['Date'])"
      ],
      "execution_count": 10,
      "outputs": []
    },
    {
      "cell_type": "code",
      "metadata": {
        "colab": {
          "base_uri": "https://localhost:8080/"
        },
        "id": "880gSt4YM21u",
        "outputId": "92f32611-22ab-4112-bc49-e58fd97d53f1"
      },
      "source": [
        "df['Date']"
      ],
      "execution_count": 11,
      "outputs": [
        {
          "output_type": "execute_result",
          "data": {
            "text/plain": [
              "0      1986-03-13\n",
              "1      1986-03-14\n",
              "2      1986-03-17\n",
              "3      1986-03-18\n",
              "4      1986-03-19\n",
              "          ...    \n",
              "8852   2021-04-27\n",
              "8853   2021-04-28\n",
              "8854   2021-04-29\n",
              "8855   2021-04-30\n",
              "8856   2021-05-03\n",
              "Name: Date, Length: 8857, dtype: datetime64[ns]"
            ]
          },
          "metadata": {
            "tags": []
          },
          "execution_count": 11
        }
      ]
    },
    {
      "cell_type": "code",
      "metadata": {
        "colab": {
          "base_uri": "https://localhost:8080/"
        },
        "id": "ECf3tG_iM6vz",
        "outputId": "fe91c47a-2657-4235-d7fa-e7ddfbb109fd"
      },
      "source": [
        "#Stock prices starts from\n",
        "df.Date.min()"
      ],
      "execution_count": 12,
      "outputs": [
        {
          "output_type": "execute_result",
          "data": {
            "text/plain": [
              "Timestamp('1986-03-13 00:00:00')"
            ]
          },
          "metadata": {
            "tags": []
          },
          "execution_count": 12
        }
      ]
    },
    {
      "cell_type": "code",
      "metadata": {
        "colab": {
          "base_uri": "https://localhost:8080/"
        },
        "id": "06MjO_61NKvK",
        "outputId": "4d0ae792-3daa-4e15-b9f2-8132457ceb66"
      },
      "source": [
        "#Stock prices ends at\n",
        "df.Date.max()"
      ],
      "execution_count": 13,
      "outputs": [
        {
          "output_type": "execute_result",
          "data": {
            "text/plain": [
              "Timestamp('2021-05-03 00:00:00')"
            ]
          },
          "metadata": {
            "tags": []
          },
          "execution_count": 13
        }
      ]
    },
    {
      "cell_type": "code",
      "metadata": {
        "colab": {
          "base_uri": "https://localhost:8080/"
        },
        "id": "uuLsPJU5NPfD",
        "outputId": "f3e36ebf-9123-4fe8-d2eb-811e6135979f"
      },
      "source": [
        "#Total Number of days\n",
        "(df.Date.max()-df.Date.min()).days"
      ],
      "execution_count": 14,
      "outputs": [
        {
          "output_type": "execute_result",
          "data": {
            "text/plain": [
              "12835"
            ]
          },
          "metadata": {
            "tags": []
          },
          "execution_count": 14
        }
      ]
    },
    {
      "cell_type": "code",
      "metadata": {
        "colab": {
          "base_uri": "https://localhost:8080/",
          "height": 283
        },
        "id": "tZsS5qgBNi1Y",
        "outputId": "28cfd6c2-085b-42d6-f181-08d929ce6783"
      },
      "source": [
        "df[df.columns[:-1]].plot(kind='box')"
      ],
      "execution_count": 15,
      "outputs": [
        {
          "output_type": "execute_result",
          "data": {
            "text/plain": [
              "<matplotlib.axes._subplots.AxesSubplot at 0x7fdc0a3205d0>"
            ]
          },
          "metadata": {
            "tags": []
          },
          "execution_count": 15
        },
        {
          "output_type": "display_data",
          "data": {
            "image/png": "[encoded data removed]",
            "text/plain": [
              "<Figure size 432x288 with 1 Axes>"
            ]
          },
          "metadata": {
            "tags": [],
            "needs_background": "light"
          }
        }
      ]
    },
    {
      "cell_type": "code",
      "metadata": {
        "colab": {
          "base_uri": "https://localhost:8080/",
          "height": 1000
        },
        "id": "eQ3h0rF7MeNe",
        "outputId": "a605540f-9224-4b8d-a332-9b8055a3bdbc"
      },
      "source": [
        "df.plot(subplots=True, figsize=(15, 20))"
      ],
      "execution_count": 16,
      "outputs": [
        {
          "output_type": "execute_result",
          "data": {
            "text/plain": [
              "array([<matplotlib.axes._subplots.AxesSubplot object at 0x7fdc0a1cef50>,\n",
              "       <matplotlib.axes._subplots.AxesSubplot object at 0x7fdc09d46a10>,\n",
              "       <matplotlib.axes._subplots.AxesSubplot object at 0x7fdc09cfddd0>,\n",
              "       <matplotlib.axes._subplots.AxesSubplot object at 0x7fdc09cc11d0>,\n",
              "       <matplotlib.axes._subplots.AxesSubplot object at 0x7fdc09c7a590>,\n",
              "       <matplotlib.axes._subplots.AxesSubplot object at 0x7fdc09c31950>,\n",
              "       <matplotlib.axes._subplots.AxesSubplot object at 0x7fdc09c68d90>],\n",
              "      dtype=object)"
            ]
          },
          "metadata": {
            "tags": []
          },
          "execution_count": 16
        },
        {
          "output_type": "display_data",
          "data": {
            "image/png": "[encoded data removed]",
            "text/plain": [
              "<Figure size 1080x1440 with 7 Axes>"
            ]
          },
          "metadata": {
            "tags": [],
            "needs_background": "light"
          }
        }
      ]
    },
    {
      "cell_type": "code",
      "metadata": {
        "id": "g-Lzq-JfLrJx"
      },
      "source": [
        "df1=df.reset_index()['Close']"
      ],
      "execution_count": 17,
      "outputs": []
    },
    {
      "cell_type": "code",
      "metadata": {
        "colab": {
          "base_uri": "https://localhost:8080/",
          "height": 283
        },
        "id": "sh4KxFzAMDf7",
        "outputId": "1047b7df-b39a-44f1-f3f5-00f208c841b2"
      },
      "source": [
        "import matplotlib.pyplot as plt\n",
        "plt.plot(df1)"
      ],
      "execution_count": 18,
      "outputs": [
        {
          "output_type": "execute_result",
          "data": {
            "text/plain": [
              "[<matplotlib.lines.Line2D at 0x7fdc09ae03d0>]"
            ]
          },
          "metadata": {
            "tags": []
          },
          "execution_count": 18
        },
        {
          "output_type": "display_data",
          "data": {
            "image/png": "[encoded data removed]",
            "text/plain": [
              "<Figure size 432x288 with 1 Axes>"
            ]
          },
          "metadata": {
            "tags": [],
            "needs_background": "light"
          }
        }
      ]
    },
    {
      "cell_type": "code",
      "metadata": {
        "id": "tJRbztCSOv6C"
      },
      "source": [
        "from sklearn.preprocessing import MinMaxScaler\n",
        "scaler=MinMaxScaler(feature_range=(0,1))\n",
        "df1=scaler.fit_transform(np.array(df1).reshape(-1,1))"
      ],
      "execution_count": 19,
      "outputs": []
    },
    {
      "cell_type": "code",
      "metadata": {
        "colab": {
          "base_uri": "https://localhost:8080/"
        },
        "id": "MtkolaP0PNdY",
        "outputId": "40752473-527b-4a5a-8ca7-ce04febd88a3"
      },
      "source": [
        "print(df1)"
      ],
      "execution_count": 20,
      "outputs": [
        {
          "output_type": "stream",
          "text": [
            "[[2.65159923e-05]\n",
            " [3.97739884e-05]\n",
            " [4.64067989e-05]\n",
            " ...\n",
            " [9.63876521e-01]\n",
            " [9.62616393e-01]\n",
            " [9.61394489e-01]]\n"
          ],
          "name": "stdout"
        }
      ]
    },
    {
      "cell_type": "code",
      "metadata": {
        "id": "tTgJdqagPZ3u"
      },
      "source": [
        "##splitting dataset into train and test split\n",
        "training_size=int(len(df1)*0.65)\n",
        "test_size=len(df1)-training_size\n",
        "train_data,test_data=df1[0:training_size,:],df1[training_size:len(df1),:1]"
      ],
      "execution_count": 21,
      "outputs": []
    },
    {
      "cell_type": "code",
      "metadata": {
        "colab": {
          "base_uri": "https://localhost:8080/"
        },
        "id": "E0CKUjVMPhQi",
        "outputId": "e99059bb-46ae-44b6-ce42-0a86fe131cf3"
      },
      "source": [
        "training_size,test_size"
      ],
      "execution_count": 22,
      "outputs": [
        {
          "output_type": "execute_result",
          "data": {
            "text/plain": [
              "(5757, 3100)"
            ]
          },
          "metadata": {
            "tags": []
          },
          "execution_count": 22
        }
      ]
    },
    {
      "cell_type": "code",
      "metadata": {
        "colab": {
          "base_uri": "https://localhost:8080/"
        },
        "id": "7EC6XbJwPjR9",
        "outputId": "7c9dfc52-7949-4ea8-e724-52c869be4af1"
      },
      "source": [
        "train_data[:10]"
      ],
      "execution_count": 23,
      "outputs": [
        {
          "output_type": "execute_result",
          "data": {
            "text/plain": [
              "array([[2.65159923e-05],\n",
              "       [3.97739884e-05],\n",
              "       [4.64067989e-05],\n",
              "       [3.64594894e-05],\n",
              "       [2.98304913e-05],\n",
              "       [1.98869942e-05],\n",
              "       [9.94349711e-06],\n",
              "       [0.00000000e+00],\n",
              "       [6.62899807e-06],\n",
              "       [1.65724952e-05]])"
            ]
          },
          "metadata": {
            "tags": []
          },
          "execution_count": 23
        }
      ]
    },
    {
      "cell_type": "code",
      "metadata": {
        "id": "s3LqmKEcPm7I"
      },
      "source": [
        "# convert an array of values into a dataset matrix\n",
        "def create_dataset(dataset, time_step=1):\n",
        "\tdataX, dataY = [], []\n",
        "\tfor i in range(len(dataset)-time_step-1):\n",
        "\t\ta = dataset[i:(i+time_step), 0]   ###i=0, 0,1,2,3-----99   100 \n",
        "\t\tdataX.append(a)\n",
        "\t\tdataY.append(dataset[i + time_step, 0])\n",
        "\treturn np.array(dataX), np.array(dataY)"
      ],
      "execution_count": 24,
      "outputs": []
    },
    {
      "cell_type": "code",
      "metadata": {
        "id": "ib7gwP27P5qZ"
      },
      "source": [
        "# reshape into X=t,t+1,t+2,t+3 and Y=t+4\n",
        "time_step = 100\n",
        "X_train, y_train = create_dataset(train_data, time_step)\n",
        "X_test, ytest = create_dataset(test_data, time_step)"
      ],
      "execution_count": 25,
      "outputs": []
    },
    {
      "cell_type": "code",
      "metadata": {
        "colab": {
          "base_uri": "https://localhost:8080/"
        },
        "id": "H1Q7LSN2P78B",
        "outputId": "5e04642f-e72d-43c5-ce8c-e6142c578874"
      },
      "source": [
        "print(X_train.shape), print(y_train.shape)"
      ],
      "execution_count": 26,
      "outputs": [
        {
          "output_type": "stream",
          "text": [
            "(5656, 100)\n",
            "(5656,)\n"
          ],
          "name": "stdout"
        },
        {
          "output_type": "execute_result",
          "data": {
            "text/plain": [
              "(None, None)"
            ]
          },
          "metadata": {
            "tags": []
          },
          "execution_count": 26
        }
      ]
    },
    {
      "cell_type": "code",
      "metadata": {
        "colab": {
          "base_uri": "https://localhost:8080/"
        },
        "id": "Z22GrvB5QCw-",
        "outputId": "830d5a9c-7cb6-45b3-d457-747485505eb1"
      },
      "source": [
        "print(X_test.shape), print(ytest.shape)"
      ],
      "execution_count": 27,
      "outputs": [
        {
          "output_type": "stream",
          "text": [
            "(2999, 100)\n",
            "(2999,)\n"
          ],
          "name": "stdout"
        },
        {
          "output_type": "execute_result",
          "data": {
            "text/plain": [
              "(None, None)"
            ]
          },
          "metadata": {
            "tags": []
          },
          "execution_count": 27
        }
      ]
    },
    {
      "cell_type": "code",
      "metadata": {
        "id": "W49kBx-bQIbk"
      },
      "source": [
        "# reshape input to be [samples, time steps, features] which is required for LSTM\n",
        "X_train =X_train.reshape(X_train.shape[0],X_train.shape[1] , 1)\n",
        "X_test = X_test.reshape(X_test.shape[0],X_test.shape[1] , 1)"
      ],
      "execution_count": 28,
      "outputs": []
    },
    {
      "cell_type": "code",
      "metadata": {
        "id": "-1ktO-cfQLYx"
      },
      "source": [
        "### Create the Stacked LSTM model\n",
        "from tensorflow.keras.models import Sequential\n",
        "from tensorflow.keras.layers import Dense\n",
        "from tensorflow.keras.layers import LSTM"
      ],
      "execution_count": 29,
      "outputs": []
    },
    {
      "cell_type": "code",
      "metadata": {
        "id": "fgTacoUGQNyD"
      },
      "source": [
        "model=Sequential()\n",
        "model.add(LSTM(50,return_sequences=True,input_shape=(100,1)))\n",
        "model.add(LSTM(50,return_sequences=True))\n",
        "model.add(LSTM(50))\n",
        "model.add(Dense(1))\n",
        "model.compile(loss='mean_squared_error',optimizer='adam')"
      ],
      "execution_count": 30,
      "outputs": []
    },
    {
      "cell_type": "code",
      "metadata": {
        "colab": {
          "base_uri": "https://localhost:8080/"
        },
        "id": "bG1oIL8QQQNI",
        "outputId": "d3bbebcd-8edf-4d99-c3fe-285990cb9522"
      },
      "source": [
        "model.summary()"
      ],
      "execution_count": 31,
      "outputs": [
        {
          "output_type": "stream",
          "text": [
            "Model: \"sequential\"\n",
            "_________________________________________________________________\n",
            "Layer (type)                 Output Shape              Param #   \n",
            "=================================================================\n",
            "lstm (LSTM)                  (None, 100, 50)           10400     \n",
            "_________________________________________________________________\n",
            "lstm_1 (LSTM)                (None, 100, 50)           20200     \n",
            "_________________________________________________________________\n",
            "lstm_2 (LSTM)                (None, 50)                20200     \n",
            "_________________________________________________________________\n",
            "dense (Dense)                (None, 1)                 51        \n",
            "=================================================================\n",
            "Total params: 50,851\n",
            "Trainable params: 50,851\n",
            "Non-trainable params: 0\n",
            "_________________________________________________________________\n"
          ],
          "name": "stdout"
        }
      ]
    },
    {
      "cell_type": "code",
      "metadata": {
        "colab": {
          "base_uri": "https://localhost:8080/"
        },
        "id": "mYojZP8YQSi8",
        "outputId": "aa6eac85-5c22-4865-af73-55e4e6be6521"
      },
      "source": [
        "model.fit(X_train,y_train,validation_data=(X_test,ytest),epochs=100,batch_size=64,verbose=1)"
      ],
      "execution_count": 32,
      "outputs": [
        {
          "output_type": "stream",
          "text": [
            "Epoch 1/100\n",
            "89/89 [==============================] - 12s 29ms/step - loss: 3.6507e-04 - val_loss: 0.0020\n",
            "Epoch 2/100\n",
            "89/89 [==============================] - 1s 16ms/step - loss: 3.0890e-05 - val_loss: 0.0024\n",
            "Epoch 3/100\n",
            "89/89 [==============================] - 1s 16ms/step - loss: 2.8643e-05 - val_loss: 0.0026\n",
            "Epoch 4/100\n",
            "89/89 [==============================] - 1s 16ms/step - loss: 2.7984e-05 - val_loss: 0.0030\n",
            "Epoch 5/100\n",
            "89/89 [==============================] - 1s 16ms/step - loss: 2.7443e-05 - val_loss: 0.0025\n",
            "Epoch 6/100\n",
            "89/89 [==============================] - 1s 16ms/step - loss: 2.7424e-05 - val_loss: 0.0025\n",
            "Epoch 7/100\n",
            "89/89 [==============================] - 1s 16ms/step - loss: 2.1382e-05 - val_loss: 0.0031\n",
            "Epoch 8/100\n",
            "89/89 [==============================] - 1s 16ms/step - loss: 2.0880e-05 - val_loss: 0.0030\n",
            "Epoch 9/100\n",
            "89/89 [==============================] - 1s 16ms/step - loss: 1.8562e-05 - val_loss: 0.0030\n",
            "Epoch 10/100\n",
            "89/89 [==============================] - 1s 16ms/step - loss: 1.8989e-05 - val_loss: 0.0016\n",
            "Epoch 11/100\n",
            "89/89 [==============================] - 1s 16ms/step - loss: 1.7525e-05 - val_loss: 0.0024\n",
            "Epoch 12/100\n",
            "89/89 [==============================] - 1s 16ms/step - loss: 1.5795e-05 - val_loss: 0.0022\n",
            "Epoch 13/100\n",
            "89/89 [==============================] - 2s 17ms/step - loss: 1.5748e-05 - val_loss: 0.0016\n",
            "Epoch 14/100\n",
            "89/89 [==============================] - 1s 17ms/step - loss: 1.5782e-05 - val_loss: 0.0018\n",
            "Epoch 15/100\n",
            "89/89 [==============================] - 1s 16ms/step - loss: 1.5163e-05 - val_loss: 0.0011\n",
            "Epoch 16/100\n",
            "89/89 [==============================] - 1s 16ms/step - loss: 1.2923e-05 - val_loss: 0.0013\n",
            "Epoch 17/100\n",
            "89/89 [==============================] - 1s 16ms/step - loss: 1.4027e-05 - val_loss: 0.0012\n",
            "Epoch 18/100\n",
            "89/89 [==============================] - 1s 16ms/step - loss: 1.4328e-05 - val_loss: 0.0015\n",
            "Epoch 19/100\n",
            "89/89 [==============================] - 1s 15ms/step - loss: 1.2374e-05 - val_loss: 6.8330e-04\n",
            "Epoch 20/100\n",
            "89/89 [==============================] - 1s 16ms/step - loss: 1.1275e-05 - val_loss: 9.5582e-04\n",
            "Epoch 21/100\n",
            "89/89 [==============================] - 1s 16ms/step - loss: 1.1393e-05 - val_loss: 8.2544e-04\n",
            "Epoch 22/100\n",
            "89/89 [==============================] - 1s 16ms/step - loss: 1.1623e-05 - val_loss: 6.5086e-04\n",
            "Epoch 23/100\n",
            "89/89 [==============================] - 1s 16ms/step - loss: 1.1101e-05 - val_loss: 5.1834e-04\n",
            "Epoch 24/100\n",
            "89/89 [==============================] - 1s 16ms/step - loss: 1.2184e-05 - val_loss: 4.6699e-04\n",
            "Epoch 25/100\n",
            "89/89 [==============================] - 1s 16ms/step - loss: 1.5230e-05 - val_loss: 0.0012\n",
            "Epoch 26/100\n",
            "89/89 [==============================] - 1s 16ms/step - loss: 9.3600e-06 - val_loss: 6.4638e-04\n",
            "Epoch 27/100\n",
            "89/89 [==============================] - 1s 16ms/step - loss: 9.8619e-06 - val_loss: 5.3370e-04\n",
            "Epoch 28/100\n",
            "89/89 [==============================] - 1s 17ms/step - loss: 8.2389e-06 - val_loss: 8.6430e-04\n",
            "Epoch 29/100\n",
            "89/89 [==============================] - 1s 16ms/step - loss: 8.6360e-06 - val_loss: 0.0011\n",
            "Epoch 30/100\n",
            "89/89 [==============================] - 2s 18ms/step - loss: 1.0953e-05 - val_loss: 8.3950e-04\n",
            "Epoch 31/100\n",
            "89/89 [==============================] - 1s 17ms/step - loss: 1.1587e-05 - val_loss: 4.3868e-04\n",
            "Epoch 32/100\n",
            "89/89 [==============================] - 1s 16ms/step - loss: 9.0624e-06 - val_loss: 5.5382e-04\n",
            "Epoch 33/100\n",
            "89/89 [==============================] - 1s 17ms/step - loss: 8.2474e-06 - val_loss: 4.1097e-04\n",
            "Epoch 34/100\n",
            "89/89 [==============================] - 1s 17ms/step - loss: 1.0537e-05 - val_loss: 4.0956e-04\n",
            "Epoch 35/100\n",
            "89/89 [==============================] - 2s 17ms/step - loss: 7.4980e-06 - val_loss: 8.9836e-04\n",
            "Epoch 36/100\n",
            "89/89 [==============================] - 2s 17ms/step - loss: 7.0867e-06 - val_loss: 5.4499e-04\n",
            "Epoch 37/100\n",
            "89/89 [==============================] - 2s 17ms/step - loss: 7.1799e-06 - val_loss: 9.5082e-04\n",
            "Epoch 38/100\n",
            "89/89 [==============================] - 1s 16ms/step - loss: 6.7910e-06 - val_loss: 5.9629e-04\n",
            "Epoch 39/100\n",
            "89/89 [==============================] - 1s 16ms/step - loss: 6.3315e-06 - val_loss: 4.7720e-04\n",
            "Epoch 40/100\n",
            "89/89 [==============================] - 1s 17ms/step - loss: 6.7815e-06 - val_loss: 7.6298e-04\n",
            "Epoch 41/100\n",
            "89/89 [==============================] - 2s 17ms/step - loss: 6.3807e-06 - val_loss: 5.7029e-04\n",
            "Epoch 42/100\n",
            "89/89 [==============================] - 1s 16ms/step - loss: 6.3183e-06 - val_loss: 4.8156e-04\n",
            "Epoch 43/100\n",
            "89/89 [==============================] - 2s 17ms/step - loss: 6.5066e-06 - val_loss: 5.3723e-04\n",
            "Epoch 44/100\n",
            "89/89 [==============================] - 2s 17ms/step - loss: 8.2985e-06 - val_loss: 4.3400e-04\n",
            "Epoch 45/100\n",
            "89/89 [==============================] - 2s 17ms/step - loss: 6.2318e-06 - val_loss: 8.0680e-04\n",
            "Epoch 46/100\n",
            "89/89 [==============================] - 1s 17ms/step - loss: 5.9490e-06 - val_loss: 6.2830e-04\n",
            "Epoch 47/100\n",
            "89/89 [==============================] - 2s 17ms/step - loss: 6.1113e-06 - val_loss: 7.1124e-04\n",
            "Epoch 48/100\n",
            "89/89 [==============================] - 2s 17ms/step - loss: 6.7542e-06 - val_loss: 5.2091e-04\n",
            "Epoch 49/100\n",
            "89/89 [==============================] - 1s 16ms/step - loss: 5.3815e-06 - val_loss: 9.2122e-04\n",
            "Epoch 50/100\n",
            "89/89 [==============================] - 2s 17ms/step - loss: 6.4790e-06 - val_loss: 6.4572e-04\n",
            "Epoch 51/100\n",
            "89/89 [==============================] - 2s 17ms/step - loss: 5.0444e-06 - val_loss: 6.1593e-04\n",
            "Epoch 52/100\n",
            "89/89 [==============================] - 2s 17ms/step - loss: 5.2784e-06 - val_loss: 4.1916e-04\n",
            "Epoch 53/100\n",
            "89/89 [==============================] - 1s 17ms/step - loss: 5.9363e-06 - val_loss: 5.9106e-04\n",
            "Epoch 54/100\n",
            "89/89 [==============================] - 1s 16ms/step - loss: 5.3787e-06 - val_loss: 8.0689e-04\n",
            "Epoch 55/100\n",
            "89/89 [==============================] - 1s 17ms/step - loss: 6.3941e-06 - val_loss: 6.8659e-04\n",
            "Epoch 56/100\n",
            "89/89 [==============================] - 1s 16ms/step - loss: 5.5024e-06 - val_loss: 3.8177e-04\n",
            "Epoch 57/100\n",
            "89/89 [==============================] - 1s 17ms/step - loss: 5.1652e-06 - val_loss: 3.2761e-04\n",
            "Epoch 58/100\n",
            "89/89 [==============================] - 1s 17ms/step - loss: 5.3404e-06 - val_loss: 4.6929e-04\n",
            "Epoch 59/100\n",
            "89/89 [==============================] - 1s 17ms/step - loss: 5.1800e-06 - val_loss: 6.5417e-04\n",
            "Epoch 60/100\n",
            "89/89 [==============================] - 1s 16ms/step - loss: 6.3217e-06 - val_loss: 6.6642e-04\n",
            "Epoch 61/100\n",
            "89/89 [==============================] - 1s 16ms/step - loss: 4.8301e-06 - val_loss: 4.9389e-04\n",
            "Epoch 62/100\n",
            "89/89 [==============================] - 1s 16ms/step - loss: 5.7790e-06 - val_loss: 4.3725e-04\n",
            "Epoch 63/100\n",
            "89/89 [==============================] - 1s 16ms/step - loss: 5.7074e-06 - val_loss: 5.2870e-04\n",
            "Epoch 64/100\n",
            "89/89 [==============================] - 1s 16ms/step - loss: 5.0736e-06 - val_loss: 7.8376e-04\n",
            "Epoch 65/100\n",
            "89/89 [==============================] - 1s 16ms/step - loss: 5.2010e-06 - val_loss: 3.4292e-04\n",
            "Epoch 66/100\n",
            "89/89 [==============================] - 1s 16ms/step - loss: 5.7792e-06 - val_loss: 5.6837e-04\n",
            "Epoch 67/100\n",
            "89/89 [==============================] - 1s 16ms/step - loss: 5.8817e-06 - val_loss: 4.3649e-04\n",
            "Epoch 68/100\n",
            "89/89 [==============================] - 1s 17ms/step - loss: 4.6748e-06 - val_loss: 6.9936e-04\n",
            "Epoch 69/100\n",
            "89/89 [==============================] - 1s 16ms/step - loss: 5.2262e-06 - val_loss: 7.4598e-04\n",
            "Epoch 70/100\n",
            "89/89 [==============================] - 1s 16ms/step - loss: 4.8844e-06 - val_loss: 4.4461e-04\n",
            "Epoch 71/100\n",
            "89/89 [==============================] - 1s 16ms/step - loss: 5.1897e-06 - val_loss: 6.2822e-04\n",
            "Epoch 72/100\n",
            "89/89 [==============================] - 1s 16ms/step - loss: 4.7170e-06 - val_loss: 4.5137e-04\n",
            "Epoch 73/100\n",
            "89/89 [==============================] - 1s 16ms/step - loss: 4.5630e-06 - val_loss: 5.7086e-04\n",
            "Epoch 74/100\n",
            "89/89 [==============================] - 1s 16ms/step - loss: 4.9489e-06 - val_loss: 7.5660e-04\n",
            "Epoch 75/100\n",
            "89/89 [==============================] - 1s 16ms/step - loss: 6.3569e-06 - val_loss: 4.6532e-04\n",
            "Epoch 76/100\n",
            "89/89 [==============================] - 1s 16ms/step - loss: 5.1180e-06 - val_loss: 5.6705e-04\n",
            "Epoch 77/100\n",
            "89/89 [==============================] - 1s 16ms/step - loss: 4.4663e-06 - val_loss: 6.3233e-04\n",
            "Epoch 78/100\n",
            "89/89 [==============================] - 1s 16ms/step - loss: 4.6290e-06 - val_loss: 5.4335e-04\n",
            "Epoch 79/100\n",
            "89/89 [==============================] - 1s 16ms/step - loss: 4.9861e-06 - val_loss: 5.1950e-04\n",
            "Epoch 80/100\n",
            "89/89 [==============================] - 1s 16ms/step - loss: 4.4372e-06 - val_loss: 6.3191e-04\n",
            "Epoch 81/100\n",
            "89/89 [==============================] - 1s 16ms/step - loss: 4.4453e-06 - val_loss: 4.4729e-04\n",
            "Epoch 82/100\n",
            "89/89 [==============================] - 1s 16ms/step - loss: 4.9744e-06 - val_loss: 4.6125e-04\n",
            "Epoch 83/100\n",
            "89/89 [==============================] - 1s 16ms/step - loss: 4.6674e-06 - val_loss: 5.8246e-04\n",
            "Epoch 84/100\n",
            "89/89 [==============================] - 2s 17ms/step - loss: 4.9158e-06 - val_loss: 4.7914e-04\n",
            "Epoch 85/100\n",
            "89/89 [==============================] - 1s 17ms/step - loss: 4.8540e-06 - val_loss: 6.0153e-04\n",
            "Epoch 86/100\n",
            "89/89 [==============================] - 1s 17ms/step - loss: 4.7025e-06 - val_loss: 6.7124e-04\n",
            "Epoch 87/100\n",
            "89/89 [==============================] - 1s 16ms/step - loss: 4.6540e-06 - val_loss: 6.6196e-04\n",
            "Epoch 88/100\n",
            "89/89 [==============================] - 1s 16ms/step - loss: 4.5058e-06 - val_loss: 4.5840e-04\n",
            "Epoch 89/100\n",
            "89/89 [==============================] - 1s 16ms/step - loss: 4.9322e-06 - val_loss: 5.0845e-04\n",
            "Epoch 90/100\n",
            "89/89 [==============================] - 1s 16ms/step - loss: 4.4419e-06 - val_loss: 6.4563e-04\n",
            "Epoch 91/100\n",
            "89/89 [==============================] - 1s 16ms/step - loss: 4.4262e-06 - val_loss: 8.0052e-04\n",
            "Epoch 92/100\n",
            "89/89 [==============================] - 1s 16ms/step - loss: 4.4799e-06 - val_loss: 6.1422e-04\n",
            "Epoch 93/100\n",
            "89/89 [==============================] - 1s 16ms/step - loss: 4.8861e-06 - val_loss: 4.3064e-04\n",
            "Epoch 94/100\n",
            "89/89 [==============================] - 1s 16ms/step - loss: 5.2511e-06 - val_loss: 4.3472e-04\n",
            "Epoch 95/100\n",
            "89/89 [==============================] - 1s 17ms/step - loss: 4.9266e-06 - val_loss: 4.9296e-04\n",
            "Epoch 96/100\n",
            "89/89 [==============================] - 1s 17ms/step - loss: 5.0705e-06 - val_loss: 4.1632e-04\n",
            "Epoch 97/100\n",
            "89/89 [==============================] - 1s 16ms/step - loss: 4.9073e-06 - val_loss: 7.2157e-04\n",
            "Epoch 98/100\n",
            "89/89 [==============================] - 1s 17ms/step - loss: 5.6036e-06 - val_loss: 0.0012\n",
            "Epoch 99/100\n",
            "89/89 [==============================] - 1s 16ms/step - loss: 5.3275e-06 - val_loss: 6.6370e-04\n",
            "Epoch 100/100\n",
            "89/89 [==============================] - 1s 16ms/step - loss: 5.1450e-06 - val_loss: 9.6578e-04\n"
          ],
          "name": "stdout"
        },
        {
          "output_type": "execute_result",
          "data": {
            "text/plain": [
              "<tensorflow.python.keras.callbacks.History at 0x7fdb785705d0>"
            ]
          },
          "metadata": {
            "tags": []
          },
          "execution_count": 32
        }
      ]
    },
    {
      "cell_type": "code",
      "metadata": {
        "id": "NPy1Ewv7QVpe"
      },
      "source": [
        "### Lets Do the prediction and check performance metrics\n",
        "train_predict=model.predict(X_train)\n",
        "test_predict=model.predict(X_test)"
      ],
      "execution_count": 33,
      "outputs": []
    },
    {
      "cell_type": "code",
      "metadata": {
        "id": "X4kq6QeORNGq"
      },
      "source": [
        "##Transformback to original form\n",
        "train_predict=scaler.inverse_transform(train_predict)\n",
        "test_predict=scaler.inverse_transform(test_predict)"
      ],
      "execution_count": 34,
      "outputs": []
    },
    {
      "cell_type": "code",
      "metadata": {
        "colab": {
          "base_uri": "https://localhost:8080/"
        },
        "id": "P77LNSGXRPGq",
        "outputId": "579fb7ca-08d1-4b32-b6a7-4bf7f175ac0a"
      },
      "source": [
        "### Calculate RMSE performance metrics\n",
        "import math\n",
        "from sklearn.metrics import mean_squared_error\n",
        "math.sqrt(mean_squared_error(y_train,train_predict))"
      ],
      "execution_count": 35,
      "outputs": [
        {
          "output_type": "execute_result",
          "data": {
            "text/plain": [
              "21.262399464443305"
            ]
          },
          "metadata": {
            "tags": []
          },
          "execution_count": 35
        }
      ]
    },
    {
      "cell_type": "code",
      "metadata": {
        "colab": {
          "base_uri": "https://localhost:8080/"
        },
        "id": "LGsyY078RRqm",
        "outputId": "a9afd53e-7b0a-4f9b-ad8f-445e021263a5"
      },
      "source": [
        "### Test Data RMSE\n",
        "math.sqrt(mean_squared_error(ytest,test_predict))"
      ],
      "execution_count": 36,
      "outputs": [
        {
          "output_type": "execute_result",
          "data": {
            "text/plain": [
              "84.1470832825665"
            ]
          },
          "metadata": {
            "tags": []
          },
          "execution_count": 36
        }
      ]
    },
    {
      "cell_type": "code",
      "metadata": {
        "colab": {
          "base_uri": "https://localhost:8080/",
          "height": 265
        },
        "id": "ZnPeToCXRi2l",
        "outputId": "8c1124bb-9e51-4c4a-eb64-de8fd793306e"
      },
      "source": [
        "### Plotting \n",
        "# shift train predictions for plotting\n",
        "look_back=100\n",
        "trainPredictPlot = np.empty_like(df1)\n",
        "trainPredictPlot[:, :] = np.nan\n",
        "trainPredictPlot[look_back:len(train_predict)+look_back, :] = train_predict\n",
        "# shift test predictions for plotting\n",
        "testPredictPlot = np.empty_like(df1)\n",
        "testPredictPlot[:, :] = np.nan\n",
        "testPredictPlot[len(train_predict)+(look_back*2)+1:len(df1)-1, :] = test_predict\n",
        "# plot baseline and predictions\n",
        "plt.plot(scaler.inverse_transform(df1))\n",
        "plt.plot(trainPredictPlot)\n",
        "plt.plot(testPredictPlot)\n",
        "plt.show()"
      ],
      "execution_count": 39,
      "outputs": [
        {
          "output_type": "display_data",
          "data": {
            "image/png": "[encoded data removed]",
            "text/plain": [
              "<Figure size 432x288 with 1 Axes>"
            ]
          },
          "metadata": {
            "tags": [],
            "needs_background": "light"
          }
        }
      ]
    },
    {
      "cell_type": "code",
      "metadata": {
        "colab": {
          "base_uri": "https://localhost:8080/"
        },
        "id": "_m9Vr9mVRo6T",
        "outputId": "5b7aaed1-5eeb-427a-aa8a-13c64d45490d"
      },
      "source": [
        ""
      ],
      "execution_count": 40,
      "outputs": [
        {
          "output_type": "execute_result",
          "data": {
            "text/plain": [
              "3100"
            ]
          },
          "metadata": {
            "tags": []
          },
          "execution_count": 40
        }
      ]
    },
    {
      "cell_type": "code",
      "metadata": {
        "id": "3UV1WX_FR1JE"
      },
      "source": [
        ""
      ],
      "execution_count": null,
      "outputs": []
    }
  ]
}